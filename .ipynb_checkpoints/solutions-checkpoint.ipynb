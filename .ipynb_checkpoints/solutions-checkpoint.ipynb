{
 "cells": [
  {
   "cell_type": "markdown",
   "id": "94fefa81",
   "metadata": {},
   "source": [
    "Imprime en consola Hello World."
   ]
  },
  {
   "cell_type": "code",
   "execution_count": 1,
   "id": "31af2799",
   "metadata": {},
   "outputs": [
    {
     "name": "stdout",
     "output_type": "stream",
     "text": [
      "Hello world\n"
     ]
    }
   ],
   "source": [
    "echo Hello world"
   ]
  },
  {
   "cell_type": "markdown",
   "id": "aac71192",
   "metadata": {},
   "source": [
    "Crea un directorio nuevo llamado new_dir."
   ]
  },
  {
   "cell_type": "code",
   "execution_count": 2,
   "id": "386e9adc",
   "metadata": {},
   "outputs": [],
   "source": [
    "mkdir newdir"
   ]
  },
  {
   "cell_type": "markdown",
   "id": "20cc2a63",
   "metadata": {},
   "source": [
    "Elimina ese directorio."
   ]
  },
  {
   "cell_type": "code",
   "execution_count": null,
   "id": "835ab529",
   "metadata": {},
   "outputs": [],
   "source": [
    "rm -r newdir"
   ]
  },
  {
   "cell_type": "markdown",
   "id": "eaa0d7e9",
   "metadata": {},
   "source": [
    "Copia el archivo sed.txt dentro de la carpeta lorem a la carpeta lorem-copy. TIP: Puede ser necesario crear la carpeta lorem-copy primero."
   ]
  },
  {
   "cell_type": "code",
   "execution_count": null,
   "id": "308ebd1c",
   "metadata": {},
   "outputs": [],
   "source": [
    "mkdir lorem-copy"
   ]
  },
  {
   "cell_type": "code",
   "execution_count": null,
   "id": "072f6061",
   "metadata": {},
   "outputs": [],
   "source": [
    "cd lorem"
   ]
  },
  {
   "cell_type": "code",
   "execution_count": null,
   "id": "1fa9adc4",
   "metadata": {},
   "outputs": [],
   "source": [
    "cp sed.txt  ~/Desktop/1.1-lab-bash/lorem-copy"
   ]
  },
  {
   "cell_type": "markdown",
   "id": "6b3fb2db",
   "metadata": {},
   "source": [
    "Copia los otros dos archivos de la carpeta lorem a la carpeta lorem-copy en una sola línea."
   ]
  },
  {
   "cell_type": "code",
   "execution_count": null,
   "id": "1a8cf68d",
   "metadata": {},
   "outputs": [],
   "source": [
    "cp at.txt lorem.txt ~/Desktop/1.1-lab-bash/lorem-copy"
   ]
  },
  {
   "cell_type": "markdown",
   "id": "bca69419",
   "metadata": {},
   "source": [
    "Muestra el contenido del archivo sed.txt dentro de la carpeta lorem."
   ]
  },
  {
   "cell_type": "code",
   "execution_count": null,
   "id": "cf53b7d3",
   "metadata": {},
   "outputs": [],
   "source": [
    "cat sed.txt"
   ]
  },
  {
   "cell_type": "markdown",
   "id": "4da26e99",
   "metadata": {},
   "source": [
    "Muestra el contenido de los archivos at.txt y lorem.txt dentro de la carpeta lorem."
   ]
  },
  {
   "cell_type": "code",
   "execution_count": null,
   "id": "37ccd241",
   "metadata": {},
   "outputs": [],
   "source": [
    "cat at.txt lorem.txt"
   ]
  },
  {
   "cell_type": "markdown",
   "id": "227bdfcb",
   "metadata": {},
   "source": [
    "Visualiza las primeras 3 líneas del archivo sed.txt dentro de la carpeta lorem-copy"
   ]
  },
  {
   "cell_type": "code",
   "execution_count": null,
   "id": "42aca62c",
   "metadata": {},
   "outputs": [],
   "source": [
    "cat at.txt lorem.txt"
   ]
  },
  {
   "cell_type": "markdown",
   "id": "ad990176",
   "metadata": {},
   "source": [
    "Visualiza las primeras 3 líneas del archivo sed.txt dentro de la carpeta lorem-copy"
   ]
  },
  {
   "cell_type": "code",
   "execution_count": null,
   "id": "4bc1f87c",
   "metadata": {},
   "outputs": [],
   "source": [
    "head -n 3 sed.txt"
   ]
  },
  {
   "cell_type": "markdown",
   "id": "06c99d22",
   "metadata": {},
   "source": [
    "Visualiza las ultimas 3 líneas del archivo sed.txt dentro de la carpeta lorem-copy"
   ]
  },
  {
   "cell_type": "code",
   "execution_count": null,
   "id": "161a340e",
   "metadata": {},
   "outputs": [],
   "source": [
    "tail -n 3 sed.txt"
   ]
  },
  {
   "cell_type": "markdown",
   "id": "ce48646b",
   "metadata": {},
   "source": [
    "Añade Homo homini lupus. al final de archivo sed.txt dentro de la carpeta lorem-copy."
   ]
  },
  {
   "cell_type": "code",
   "execution_count": null,
   "id": "2f6b1f3a",
   "metadata": {},
   "outputs": [],
   "source": [
    "echo Homo homini lupus. >> sed.txt"
   ]
  },
  {
   "cell_type": "markdown",
   "id": "51aff21f",
   "metadata": {},
   "source": [
    "Visualiza las últimas 3 líneas del archivo sed.txt dentro de la carpeta lorem-copy. Deberías ver ahora Homo homini lupus.."
   ]
  },
  {
   "cell_type": "code",
   "execution_count": null,
   "id": "62461ac7",
   "metadata": {},
   "outputs": [],
   "source": [
    "tail -n 3 sed.txt"
   ]
  },
  {
   "cell_type": "markdown",
   "id": "c540ec8f",
   "metadata": {},
   "source": [
    "Sustituye todas las apariciones de et por ET del archivo at.txt dentro de la carpeta lorem-copy. Deberás usar sed."
   ]
  },
  {
   "cell_type": "code",
   "execution_count": null,
   "id": "0f3760c1",
   "metadata": {},
   "outputs": [],
   "source": [
    "sed 's/et/ET/g' at.txt"
   ]
  },
  {
   "cell_type": "markdown",
   "id": "aea58e4a",
   "metadata": {},
   "source": [
    "Encuentra al usuario activo en el sistema."
   ]
  },
  {
   "cell_type": "code",
   "execution_count": null,
   "id": "6d19c3ed",
   "metadata": {},
   "outputs": [],
   "source": [
    "whoami"
   ]
  },
  {
   "cell_type": "markdown",
   "id": "fbb1d417",
   "metadata": {},
   "source": [
    "Encuentra dónde estás en tu sistema de ficheros."
   ]
  },
  {
   "cell_type": "code",
   "execution_count": null,
   "id": "fb7ffa17",
   "metadata": {},
   "outputs": [],
   "source": [
    "pwd"
   ]
  },
  {
   "cell_type": "markdown",
   "id": "ca64fe73",
   "metadata": {},
   "source": [
    "Lista los archivos que terminan por .txt en la carpeta lorem."
   ]
  },
  {
   "cell_type": "code",
   "execution_count": null,
   "id": "2ddc227e",
   "metadata": {},
   "outputs": [],
   "source": [
    "cd .."
   ]
  },
  {
   "cell_type": "code",
   "execution_count": null,
   "id": "0a68dc33",
   "metadata": {},
   "outputs": [],
   "source": [
    "cd lorem"
   ]
  },
  {
   "cell_type": "code",
   "execution_count": null,
   "id": "0dafc7f1",
   "metadata": {},
   "outputs": [],
   "source": [
    "ls *.txt"
   ]
  },
  {
   "cell_type": "markdown",
   "id": "dfa51af2",
   "metadata": {},
   "source": [
    "Cuenta el número de líneas que tiene el archivo sed.txt dentro de la carpeta lorem."
   ]
  },
  {
   "cell_type": "code",
   "execution_count": null,
   "id": "af033fff",
   "metadata": {},
   "outputs": [],
   "source": [
    "wc sed.txt"
   ]
  },
  {
   "cell_type": "markdown",
   "id": "d697abff",
   "metadata": {},
   "source": [
    "Cuenta el número de archivos que empiezan por lorem que están en este directorio y en directorios internos."
   ]
  },
  {
   "cell_type": "code",
   "execution_count": null,
   "id": "3e52b235",
   "metadata": {},
   "outputs": [],
   "source": [
    "cd .."
   ]
  },
  {
   "cell_type": "code",
   "execution_count": null,
   "id": "52291316",
   "metadata": {},
   "outputs": [],
   "source": [
    "find . -name 'lorem*' | wc -l"
   ]
  },
  {
   "cell_type": "markdown",
   "id": "29bda446",
   "metadata": {},
   "source": [
    "Encuentra todas las apariciones de et en at.txt dentro de la carpeta lorem."
   ]
  },
  {
   "cell_type": "code",
   "execution_count": null,
   "id": "e4c1f2fc",
   "metadata": {},
   "outputs": [],
   "source": [
    "cd lorem"
   ]
  },
  {
   "cell_type": "code",
   "execution_count": null,
   "id": "1d60bdb3",
   "metadata": {},
   "outputs": [],
   "source": [
    "grep et at.txt"
   ]
  },
  {
   "cell_type": "markdown",
   "id": "2e2f1335",
   "metadata": {},
   "source": [
    "Cuenta el número de apariciones del string et en at.txt dentro de la carpeta lorem."
   ]
  },
  {
   "cell_type": "code",
   "execution_count": null,
   "id": "89501e06",
   "metadata": {},
   "outputs": [],
   "source": [
    "grep -c et at.txt"
   ]
  },
  {
   "cell_type": "markdown",
   "id": "47622463",
   "metadata": {},
   "source": [
    "Cuenta el número de apariciones del string et en todos los archivos del directorio lorem-copy."
   ]
  },
  {
   "cell_type": "code",
   "execution_count": null,
   "id": "61cdf790",
   "metadata": {},
   "outputs": [],
   "source": [
    "grep -r et lorem-copy | wc -l"
   ]
  }
 ],
 "metadata": {
  "kernelspec": {
   "display_name": "Python 3 (ipykernel)",
   "language": "python",
   "name": "python3"
  },
  "language_info": {
   "codemirror_mode": {
    "name": "ipython",
    "version": 3
   },
   "file_extension": ".py",
   "mimetype": "text/x-python",
   "name": "python",
   "nbconvert_exporter": "python",
   "pygments_lexer": "ipython3",
   "version": "3.9.13"
  }
 },
 "nbformat": 4,
 "nbformat_minor": 5
}
